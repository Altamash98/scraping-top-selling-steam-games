{
 "cells": [
  {
   "cell_type": "markdown",
   "metadata": {
    "id": "0zxlxKVHE6Ox"
   },
   "source": [
    "# Scraping Top Selling Games on Steam using Selenium with Python\n",
    "\n",
    "![banner_image](https://i.imgur.com/Ztwv6dx.png)\n",
    "\n",
    "**Web Scraping** is a technique used to extract data from websites. It is the process of collecting structured web data in an automated fashion. It's also called web data extraction. Some of the main use cases of web scraping include price monitoring, price intelligence, news monitoring, lead generation, and market research among many others.\n",
    "\n",
    "Here, in this web scraping we will scrap the data of top selling games from [Steam](https://store.steampowered.com/search/?filter=topsellers).\n",
    "\n",
    "[Steam](https://store.steampowered.com/) is an online platform from game developer Valve where you can buy, play, create, and discuss PC games. The platform hosts thousands of games (as well as downloadable content, or DLC, and user-generated features called \"mods\") from major developers and indie game designers alike.\n",
    "\n",
    "As the website that we will scrape is a [dynamic website](https://www.geeksforgeeks.org/dynamic-websites/) meaning this website has a infinite scrolling of games which is happening on one page only so, therefore we'll use the Python library `Selenium` to perform scrapping from the webpage and then we will use the `Pandas` library to store the information in  structured tabular format.\n",
    "\n",
    "\n",
    "\n"
   ]
  },
  {
   "cell_type": "markdown",
   "metadata": {
    "id": "KKAM4ZEhSF5a"
   },
   "source": [
    "## Project workflow\n",
    "\n",
    "Here's an outline of the steps that we will follow:\n",
    "1. Create a webdriver with selenium to access the website.\n",
    "2. Download the webpage using the `Selenium` library.\n",
    "3. Simulate the scrolling of the webpage using `Selenium` to get to the end of the page to get all the games.\n",
    "4. Extract the Title and url of the games.\n",
    "5. Cleaning the data of any anomalies which occour.\n",
    "6. Extracting data from every game's page.\n",
    "7. Compile the extracted data into python lists and dictionary.\n",
    "8. Save the extracted information in a csv file."
   ]
  },
  {
   "cell_type": "markdown",
   "metadata": {
    "id": "sVUqlZt9R39l"
   },
   "source": [
    "## Exepected results:\n",
    "\n",
    "By the end of the project we will create a CSV file in the following format:\n",
    "\n",
    "```\n",
    "Title,Game_url,Release_date,Reviews,Price,Discounted_price\n",
    "LEGO® Star Wars™: The Skywalker Saga,https://store.steampowered.com/app/920210/LEGO_Star_Wars_The_Skywalker_Saga/?snr=1_7_7_7000_150_1,5 Apr 2022,Very Positive 94% of the 8,348 user reviews for this game are positive,2499,2499\n",
    "Sea of Thieves,https://store.steampowered.com/app/1172620/Sea_of_Thieves/?snr=1_7_7_7000_150_1,3 Jun 2020,Very Positive<br>90% of the 178,341 user reviews for this game are positive,\n",
    "\n",
    "```"
   ]
  },
  {
   "cell_type": "markdown",
   "metadata": {
    "id": "Q8rGaLTrLP57"
   },
   "source": [
    "## Run the code\n",
    "\n",
    "You can execute the code using **Run** button at the top of this page and the select **'Run on Colab'**. You can make changes and save your own version of the notebook at [jovian](https://www.jovian.ai) by executing the following cells."
   ]
  },
  {
   "cell_type": "code",
   "execution_count": null,
   "metadata": {
    "id": "zX4Ja1eAE6Oz"
   },
   "outputs": [],
   "source": [
    "!pip install jovian --upgrade --quiet"
   ]
  },
  {
   "cell_type": "code",
   "execution_count": null,
   "metadata": {
    "id": "o2Yq0vmNE6O1"
   },
   "outputs": [],
   "source": [
    "import jovian"
   ]
  },
  {
   "cell_type": "code",
   "execution_count": null,
   "metadata": {
    "colab": {
     "base_uri": "https://localhost:8080/",
     "height": 126
    },
    "executionInfo": {
     "elapsed": 12058,
     "status": "ok",
     "timestamp": 1649591998111,
     "user": {
      "displayName": "Altamash Waseem",
      "userId": "02046062760483373059"
     },
     "user_tz": 420
    },
    "id": "0SJ08Yv1E6O1",
    "outputId": "b65134f0-7f14-43ba-e5e6-0aaf12394593"
   },
   "outputs": [
    {
     "data": {
      "application/javascript": [
       "window.require && require([\"base/js/namespace\"],function(Jupyter){Jupyter.notebook.save_checkpoint()})"
      ],
      "text/plain": [
       "<IPython.core.display.Javascript object>"
      ]
     },
     "metadata": {},
     "output_type": "display_data"
    },
    {
     "name": "stdout",
     "output_type": "stream",
     "text": [
      "[jovian] Updating notebook \"altamashwaseem04/scraping-top-selling-games-on-steam\" on https://jovian.ai\u001b[0m\n",
      "[jovian] Committed successfully! https://jovian.ai/altamashwaseem04/scraping-top-selling-games-on-steam\u001b[0m\n"
     ]
    },
    {
     "data": {
      "text/plain": [
       "'https://jovian.ai/altamashwaseem04/scraping-top-selling-games-on-steam'"
      ]
     },
     "execution_count": 3,
     "metadata": {},
     "output_type": "execute_result"
    }
   ],
   "source": [
    "# Execute this to save new versions of the notebook\n",
    "jovian.commit(project=\"scraping-top-selling-games-on-steam\")"
   ]
  },
  {
   "cell_type": "markdown",
   "metadata": {
    "id": "moc_N6PRPccC"
   },
   "source": [
    "## Install and import important libraries"
   ]
  },
  {
   "cell_type": "markdown",
   "metadata": {
    "id": "MHPPkV2jU7md"
   },
   "source": [
    "For downloding the page and scraping the website we will use the [`Selenium`](https://www.geeksforgeeks.org/selenium-python-tutorial/) library and use the [chromium](https://en.wikipedia.org/wiki/Chromium_(web_browser)) browser to access the website"
   ]
  },
  {
   "cell_type": "code",
   "execution_count": 68,
   "metadata": {
    "colab": {
     "base_uri": "https://localhost:8080/"
    },
    "executionInfo": {
     "elapsed": 11711,
     "status": "ok",
     "timestamp": 1651055233077,
     "user": {
      "displayName": "Altamash Waseem",
      "userId": "02046062760483373059"
     },
     "user_tz": 420
    },
    "id": "T2iPHhPOUq3v",
    "outputId": "34a166f4-679d-49f1-eac8-3861a1ba943e"
   },
   "outputs": [
    {
     "name": "stdout",
     "output_type": "stream",
     "text": [
      "\u001b[33m\r",
      "0% [Working]\u001b[0m\r",
      "            \r",
      "Hit:1 https://cloud.r-project.org/bin/linux/ubuntu bionic-cran40/ InRelease\n",
      "Get:2 http://security.ubuntu.com/ubuntu bionic-security InRelease [88.7 kB]\n",
      "Hit:3 http://archive.ubuntu.com/ubuntu bionic InRelease\n",
      "Hit:4 http://ppa.launchpad.net/c2d4u.team/c2d4u4.0+/ubuntu bionic InRelease\n",
      "Get:5 http://archive.ubuntu.com/ubuntu bionic-updates InRelease [88.7 kB]\n",
      "Hit:6 http://ppa.launchpad.net/cran/libgit2/ubuntu bionic InRelease\n",
      "Get:7 http://security.ubuntu.com/ubuntu bionic-security/main amd64 Packages [2,732 kB]\n",
      "Ign:8 https://developer.download.nvidia.com/compute/cuda/repos/ubuntu1804/x86_64  InRelease\n",
      "Get:9 http://archive.ubuntu.com/ubuntu bionic-backports InRelease [74.6 kB]\n",
      "Hit:10 http://ppa.launchpad.net/deadsnakes/ppa/ubuntu bionic InRelease\n",
      "Ign:11 https://developer.download.nvidia.com/compute/machine-learning/repos/ubuntu1804/x86_64  InRelease\n",
      "Get:12 http://security.ubuntu.com/ubuntu bionic-security/universe amd64 Packages [1,496 kB]\n",
      "Hit:13 https://developer.download.nvidia.com/compute/cuda/repos/ubuntu1804/x86_64  Release\n",
      "Hit:14 http://ppa.launchpad.net/graphics-drivers/ppa/ubuntu bionic InRelease\n",
      "Hit:15 https://developer.download.nvidia.com/compute/machine-learning/repos/ubuntu1804/x86_64  Release\n",
      "Get:16 http://archive.ubuntu.com/ubuntu bionic-updates/universe amd64 Packages [2,272 kB]\n",
      "Get:17 http://archive.ubuntu.com/ubuntu bionic-updates/main amd64 Packages [3,167 kB]\n",
      "Fetched 9,920 kB in 3s (3,068 kB/s)\n",
      "Reading package lists... Done\n",
      "Building dependency tree       \n",
      "Reading state information... Done\n",
      "48 packages can be upgraded. Run 'apt list --upgradable' to see them.\n",
      "Reading package lists...\n",
      "Building dependency tree...\n",
      "Reading state information...\n",
      "chromium-chromedriver is already the newest version (100.0.4896.127-0ubuntu0.18.04.1).\n",
      "0 upgraded, 0 newly installed, 0 to remove and 48 not upgraded.\n",
      "\u001b[31mERROR: pip's dependency resolver does not currently take into account all the packages that are installed. This behaviour is the source of the following dependency conflicts.\n",
      "requests 2.23.0 requires urllib3!=1.25.0,!=1.25.1,<1.26,>=1.21.1, but you have urllib3 1.26.9 which is incompatible.\n",
      "datascience 0.10.6 requires folium==0.2.1, but you have folium 0.8.3 which is incompatible.\u001b[0m\n"
     ]
    }
   ],
   "source": [
    "!apt update\n",
    "!apt install chromium-chromedriver --quiet\n",
    "!pip install selenium --quiet"
   ]
  },
  {
   "cell_type": "code",
   "execution_count": null,
   "metadata": {
    "id": "TpxrbdIRW0jL"
   },
   "outputs": [],
   "source": [
    "from selenium import webdriver\n",
    "from selenium.webdriver.common.by import By\n",
    "from selenium.webdriver.support.select import Select"
   ]
  },
  {
   "cell_type": "markdown",
   "metadata": {
    "id": "eMuXfwwW4y6V"
   },
   "source": [
    "We will use the [`Pandas`](https://mode.com/python-tutorial/libraries/pandas/) library to convert the Collected data into a dataframe"
   ]
  },
  {
   "cell_type": "code",
   "execution_count": null,
   "metadata": {
    "id": "GmAlHZIFWzFp"
   },
   "outputs": [],
   "source": [
    "!pip install pandas --upgrade --quiet\n",
    "import pandas as pd"
   ]
  },
  {
   "cell_type": "markdown",
   "metadata": {
    "id": "xv4aZjCkYGu2"
   },
   "source": [
    "## Creating a webdriver"
   ]
  },
  {
   "cell_type": "markdown",
   "metadata": {
    "id": "d2X7cP03YsEb"
   },
   "source": [
    "[Webdriver]('https://stackoverflow.com/questions/54459701/what-is-selenium-and-what-is-webdriver') will help us to run the website as it runs on a website so that the content of a dynamic website get's loaded, but before we can create  webdriver we need to define some options for the webdriver so that the driver can run in background"
   ]
  },
  {
   "cell_type": "code",
   "execution_count": null,
   "metadata": {
    "id": "bNq4rL87-K-d"
   },
   "outputs": [],
   "source": [
    "options = webdriver.ChromeOptions()\n",
    "options.add_argument('--headless')\n",
    "options.add_argument('--no-sandbox')\n",
    "options.add_argument('--disable-dev-shm-usage')"
   ]
  },
  {
   "cell_type": "markdown",
   "metadata": {
    "id": "KXuUWu0LMvqS"
   },
   "source": [
    "Now we can create a webdriver"
   ]
  },
  {
   "cell_type": "code",
   "execution_count": null,
   "metadata": {
    "id": "nVyOMmWEMucF"
   },
   "outputs": [],
   "source": [
    "wd = webdriver.Chrome(options=options)"
   ]
  },
  {
   "cell_type": "markdown",
   "metadata": {
    "id": "rPSv4fjiZVe3"
   },
   "source": [
    "We can access the driver with the \"wd\"."
   ]
  },
  {
   "cell_type": "markdown",
   "metadata": {
    "id": "udBOLmXma5g2"
   },
   "source": [
    "## Downloading the page"
   ]
  },
  {
   "cell_type": "markdown",
   "metadata": {
    "id": "jzaVj30p4y6a"
   },
   "source": [
    "To download the page we will use the `get` property of the webdriver."
   ]
  },
  {
   "cell_type": "code",
   "execution_count": null,
   "metadata": {
    "id": "n1lMtpnBZjfx"
   },
   "outputs": [],
   "source": [
    "url ='https://store.steampowered.com/search/?filter=topsellers'\n",
    "\n",
    "wd.get(url)"
   ]
  },
  {
   "cell_type": "markdown",
   "metadata": {
    "id": "5sX1xaxiaeUe"
   },
   "source": [
    "To check if the page was download successfully we can check the title of the page with the `title` property."
   ]
  },
  {
   "cell_type": "code",
   "execution_count": null,
   "metadata": {
    "colab": {
     "base_uri": "https://localhost:8080/"
    },
    "executionInfo": {
     "elapsed": 48,
     "status": "ok",
     "timestamp": 1650971620320,
     "user": {
      "displayName": "Altamash Waseem",
      "userId": "02046062760483373059"
     },
     "user_tz": 420
    },
    "id": "bKBPsWoBaamZ",
    "outputId": "ce9d6cfe-f6a6-4227-8e93-2ed6b057a85b"
   },
   "outputs": [
    {
     "data": {
      "application/vnd.google.colaboratory.intrinsic+json": {
       "type": "string"
      },
      "text/plain": [
       "'Steam Search'"
      ]
     },
     "execution_count": 10,
     "metadata": {},
     "output_type": "execute_result"
    }
   ],
   "source": [
    "wd.title"
   ]
  },
  {
   "cell_type": "markdown",
   "metadata": {
    "id": "-zuwwmJacblN"
   },
   "source": [
    "We can create a function here for creating the driver and downloading the page."
   ]
  },
  {
   "cell_type": "code",
   "execution_count": null,
   "metadata": {
    "id": "c2O4tj1BcVkQ"
   },
   "outputs": [],
   "source": [
    "def create_driver(url):\n",
    "  '''Takes the url as an input, creates the webdriver and returns the driver with the page'''\n",
    "  options = webdriver.ChromeOptions()\n",
    "  options.add_argument('--headless')\n",
    "  options.add_argument('--no-sandbox')\n",
    "  options.add_argument('--disable-dev-shm-usage')\n",
    "  wd = webdriver.Chrome(options=options)\n",
    "  wd.get(url)\n",
    "  return wd"
   ]
  },
  {
   "cell_type": "markdown",
   "metadata": {
    "id": "Dc4naoUYbKp0"
   },
   "source": [
    "Now we have the [Steam's top selling games page](https://store.steampowered.com/search/?filter=topsellers).\n",
    "\n",
    "![Top-selling](https://i.imgur.com/Pc7VkLR.png)\n",
    "\n",
    "This page all the top selling games in steam. Now when we scroll down and get to the end of the page we can see that new games get loaded and the page's height keeps increasing and if we try to extract the information now we will not get all the games but only those which are on the page when the page gets loaded.\n",
    "\n",
    "To get all the games we need to simulate the scrolling on the page so that all the games can be loaded on the page and we can extract all the games. As there are a lot of games probably more the 10,000 therefore we are going to limit the scrolling with a for loop"
   ]
  },
  {
   "cell_type": "markdown",
   "metadata": {
    "id": "hUEuL36we4lN"
   },
   "source": [
    "## Simulating the scrolling on the page"
   ]
  },
  {
   "cell_type": "code",
   "execution_count": null,
   "metadata": {
    "id": "NnERmPFCewIO"
   },
   "outputs": [],
   "source": [
    "import time\n",
    "\n",
    "SCROLL_PAUSE_TIME = 1\n",
    "\n",
    "# Get scroll height\n",
    "last_height = wd.execute_script(\"return document.body.scrollHeight\")\n",
    "\n",
    "for i in range(6):\n",
    "    # Scroll down to bottom\n",
    "    wd.execute_script(\"window.scrollTo(0, document.body.scrollHeight);\")\n",
    "\n",
    "    # Wait to load page\n",
    "    time.sleep(SCROLL_PAUSE_TIME)\n",
    "\n",
    "    # Calculate new scroll height and compare with last scroll height\n",
    "    new_height = wd.execute_script(\"return document.body.scrollHeight\")\n",
    "    if new_height == last_height:\n",
    "        break\n",
    "    last_height = new_height"
   ]
  },
  {
   "cell_type": "code",
   "execution_count": null,
   "metadata": {
    "colab": {
     "base_uri": "https://localhost:8080/"
    },
    "executionInfo": {
     "elapsed": 38,
     "status": "ok",
     "timestamp": 1650971630511,
     "user": {
      "displayName": "Altamash Waseem",
      "userId": "02046062760483373059"
     },
     "user_tz": 420
    },
    "id": "ZzVHtblyuvyE",
    "outputId": "f743c615-6fba-4bd1-b831-59607c6d6b98"
   },
   "outputs": [
    {
     "data": {
      "text/plain": [
       "17704"
      ]
     },
     "execution_count": 13,
     "metadata": {},
     "output_type": "execute_result"
    }
   ],
   "source": [
    "last_height"
   ]
  },
  {
   "cell_type": "markdown",
   "metadata": {
    "id": "JfzxiuOefOUF"
   },
   "source": [
    "and with that the web page will be scrolled down to the bottom and we will get all the games.\n",
    "\n",
    "We can create a function to simulate the scrolling of the webpage."
   ]
  },
  {
   "cell_type": "code",
   "execution_count": null,
   "metadata": {
    "id": "aplinjJnfMzl"
   },
   "outputs": [],
   "source": [
    "def scroll_page(wd):\n",
    "  '''Takes the driver as an input and simulates the scrolling to get all the games'''  \n",
    "  SCROLL_PAUSE_TIME = 2\n",
    "\n",
    "  # Get scroll height\n",
    "  last_height = wd.execute_script(\"return document.body.scrollHeight\")\n",
    "\n",
    "  for i in range(6):\n",
    "    # Scroll down to bottom\n",
    "    wd.execute_script(\"window.scrollTo(0, document.body.scrollHeight);\")\n",
    "\n",
    "    # Wait to load page\n",
    "    time.sleep(SCROLL_PAUSE_TIME)\n",
    "\n",
    "    # Calculate new scroll height and compare with last scroll height\n",
    "    new_height = wd.execute_script(\"return document.body.scrollHeight\")\n",
    "    if new_height == last_height:\n",
    "        break\n",
    "    last_height = new_height\n",
    "  return"
   ]
  },
  {
   "cell_type": "markdown",
   "metadata": {
    "id": "Qooe0YLbf2U-"
   },
   "source": [
    "## Extracting the information"
   ]
  },
  {
   "cell_type": "markdown",
   "metadata": {
    "id": "QgMIvUqRf7WM"
   },
   "source": [
    "We need to extract the information of games like it's title, price, reviews, release date, game_url and also the discounted price.\n",
    "\n",
    "To do that we first need to get all the games that is in th page. Let's do this first:\n",
    "\n",
    "First let's go the the [Steam](https://store.steampowered.com/search/?filter=topsellers) top selling page, right click on any game and select inspect element, we will get this screen.\n",
    "\n",
    "![games_search](https://i.imgur.com/5Fer3Ks.png)\n",
    "\n",
    "We can see that the all the games are in a `div` tag. We can get this `div` by the id attribute and also by an `xpath`. To get the `xpath` right click on the `div` tag and select \"Copy>Copy Xpath\".\n",
    "\n",
    "![xpath](https://i.imgur.com/E0eByhC.png)\n",
    "\n",
    "\n"
   ]
  },
  {
   "cell_type": "markdown",
   "metadata": {
    "id": "Volb8VlLnkWe"
   },
   "source": [
    "To get any element we can use the `find_element` property of web driver."
   ]
  },
  {
   "cell_type": "code",
   "execution_count": null,
   "metadata": {
    "id": "cZbT474iaqzA"
   },
   "outputs": [],
   "source": [
    "games_rows = wd.find_element(By.ID, 'search_resultsRows')"
   ]
  },
  {
   "cell_type": "markdown",
   "metadata": {
    "id": "Z3FBfAQ2oCM-"
   },
   "source": [
    "This gives us a single element which contains all the games. Now we need to get a list of all the games so that we can scroll through them to get all the info.\n",
    "\n",
    "![games](https://i.imgur.com/cz2QBtO.png)\n",
    "\n",
    "as we can see in the above image, the games are inside of an anchor tag so we extract the games using the `tag_name`."
   ]
  },
  {
   "cell_type": "code",
   "execution_count": null,
   "metadata": {
    "colab": {
     "base_uri": "https://localhost:8080/"
    },
    "executionInfo": {
     "elapsed": 19,
     "status": "ok",
     "timestamp": 1650971633337,
     "user": {
      "displayName": "Altamash Waseem",
      "userId": "02046062760483373059"
     },
     "user_tz": 420
    },
    "id": "Yz6MP9oporZe",
    "outputId": "3c7514b6-d2ec-471e-cfdd-d1b3585fd0b4"
   },
   "outputs": [
    {
     "name": "stderr",
     "output_type": "stream",
     "text": [
      "/usr/local/lib/python3.7/dist-packages/selenium/webdriver/remote/webelement.py:359: UserWarning: find_elements_by_tag_name is deprecated. Please use find_elements(by=By.TAG_NAME, value=name) instead\n",
      "  warnings.warn(\"find_elements_by_tag_name is deprecated. Please use find_elements(by=By.TAG_NAME, value=name) instead\")\n"
     ]
    }
   ],
   "source": [
    "games = games_rows.find_elements_by_tag_name('a')"
   ]
  },
  {
   "cell_type": "markdown",
   "metadata": {
    "id": "PDupxTWooYLT"
   },
   "source": [
    "Let's create a function for getting all the games"
   ]
  },
  {
   "cell_type": "code",
   "execution_count": null,
   "metadata": {
    "id": "-D-qNxJqofA1"
   },
   "outputs": [],
   "source": [
    "def get_games(wd):\n",
    "  '''Takes the driver as an input gives and returns a selenium web element with all the games'''\n",
    "  games_rows = wd.find_element(By.ID, 'search_resultsRows')\n",
    "  games = games_rows.find_elements_by_tag_name('a')\n",
    "  return games"
   ]
  },
  {
   "cell_type": "markdown",
   "metadata": {
    "id": "EdoZP1t5o_nX"
   },
   "source": [
    "## Looping through all the games and storing them inside a list of dictionary."
   ]
  },
  {
   "cell_type": "code",
   "execution_count": null,
   "metadata": {
    "colab": {
     "base_uri": "https://localhost:8080/"
    },
    "executionInfo": {
     "elapsed": 15216,
     "status": "ok",
     "timestamp": 1650971651594,
     "user": {
      "displayName": "Altamash Waseem",
      "userId": "02046062760483373059"
     },
     "user_tz": 420
    },
    "id": "f5LF2bM2pTLt",
    "outputId": "433f274d-289a-411e-8262-2d53763488b4"
   },
   "outputs": [
    {
     "name": "stderr",
     "output_type": "stream",
     "text": [
      "/usr/local/lib/python3.7/dist-packages/selenium/webdriver/remote/webelement.py:446: UserWarning: find_element_by_class_name is deprecated. Please use find_element(by=By.CLASS_NAME, value=name) instead\n",
      "  warnings.warn(\"find_element_by_class_name is deprecated. Please use find_element(by=By.CLASS_NAME, value=name) instead\")\n"
     ]
    }
   ],
   "source": [
    "#Creating an empty list\n",
    "games_list = []\n",
    "\n",
    "#looping through all the games\n",
    "for i in range(len(games)): \n",
    "  title =  games[i].find_element_by_class_name('title').text\n",
    "  game_url = games[i].get_attribute('href')\n",
    "  \n",
    "  #storing the extracted information inside a dictionary\n",
    "  my_game = {\n",
    "      'title': title,\n",
    "      'url': game_url,\n",
    "  }\n",
    "\n",
    "  #adding the dictionary inside the list\n",
    "  games_list.append(my_game)"
   ]
  },
  {
   "cell_type": "markdown",
   "metadata": {
    "id": "oj2LSkAom_zw"
   },
   "source": [
    "Now we have a list of dictionary with the title, price, discounted, url, release date and the reviews. Lets's check how many games have we got the information of:"
   ]
  },
  {
   "cell_type": "code",
   "execution_count": 69,
   "metadata": {
    "colab": {
     "base_uri": "https://localhost:8080/"
    },
    "executionInfo": {
     "elapsed": 430,
     "status": "ok",
     "timestamp": 1651055259836,
     "user": {
      "displayName": "Altamash Waseem",
      "userId": "02046062760483373059"
     },
     "user_tz": 420
    },
    "id": "GMgeebcdxglS",
    "outputId": "4ddd7c9a-8b95-4118-f369-ed4c4ed0a332"
   },
   "outputs": [
    {
     "data": {
      "text/plain": [
       "350"
      ]
     },
     "execution_count": 69,
     "metadata": {},
     "output_type": "execute_result"
    }
   ],
   "source": [
    "len(games_list)"
   ]
  },
  {
   "cell_type": "markdown",
   "metadata": {
    "id": "SHGnwHDbozOD"
   },
   "source": [
    "We should create a function for parsing and extracting all the information from all the games."
   ]
  },
  {
   "cell_type": "code",
   "execution_count": null,
   "metadata": {
    "id": "TegJLXxzpIOW"
   },
   "outputs": [],
   "source": [
    "def parse_data(games):\n",
    "  '''Takes the web element \"games\" as input and returns a list of dictionary with the title and urls of the games'''\n",
    "  #Creating an empty list\n",
    "  games_list = []\n",
    "\n",
    "  #looping through all the games\n",
    "  for i in range(len(games)): \n",
    "    title =  games[i].find_element_by_class_name('title').text\n",
    "    game_url = games[i].get_attribute('href')\n",
    "    \n",
    "    #storing the extracted information inside a dictionary\n",
    "    my_game = {\n",
    "        'title': title,\n",
    "        'url': game_url,\n",
    "    }\n",
    "\n",
    "    #adding the dictionary inside the list\n",
    "    games_list.append(my_game)\n",
    "  return games_list"
   ]
  },
  {
   "cell_type": "code",
   "execution_count": null,
   "metadata": {
    "colab": {
     "base_uri": "https://localhost:8080/",
     "height": 122
    },
    "executionInfo": {
     "elapsed": 27588,
     "status": "ok",
     "timestamp": 1650272439374,
     "user": {
      "displayName": "Altamash Waseem",
      "userId": "02046062760483373059"
     },
     "user_tz": 420
    },
    "id": "bmSC4w5L_aim",
    "outputId": "9fc3301a-7c34-49f4-dda2-d618e10827e6"
   },
   "outputs": [
    {
     "name": "stdout",
     "output_type": "stream",
     "text": [
      "[jovian] Detected Colab notebook...\u001b[0m\n",
      "[jovian] Please enter your API key ( from https://jovian.ai/ ):\u001b[0m\n",
      "API KEY: ··········\n",
      "[jovian] Uploading colab notebook to Jovian...\u001b[0m\n",
      "Committed successfully! https://jovian.ai/altamashwaseem04/scraping-top-selling-games-on-steam\n"
     ]
    },
    {
     "data": {
      "application/vnd.google.colaboratory.intrinsic+json": {
       "type": "string"
      },
      "text/plain": [
       "'https://jovian.ai/altamashwaseem04/scraping-top-selling-games-on-steam'"
      ]
     },
     "execution_count": 20,
     "metadata": {},
     "output_type": "execute_result"
    }
   ],
   "source": [
    "jovian.commit()"
   ]
  },
  {
   "cell_type": "markdown",
   "metadata": {
    "id": "JeXFC3KSqWrL"
   },
   "source": [
    "Now we have a list of all the games and their information."
   ]
  },
  {
   "cell_type": "markdown",
   "metadata": {
    "id": "EZMasmFlqWtj"
   },
   "source": [
    "## Cleaning the data of any anomalies"
   ]
  },
  {
   "cell_type": "markdown",
   "metadata": {
    "id": "kQ-CC4SWiEAf"
   },
   "source": [
    "Before we can clean the data we need convert it to a Pandas [DataFrame]('https://www.geeksforgeeks.org/python-pandas-dataframe/') which will make interacting and cleaning the data much easier."
   ]
  },
  {
   "cell_type": "code",
   "execution_count": null,
   "metadata": {
    "id": "pQAzj-FqsNbL"
   },
   "outputs": [],
   "source": [
    "gamesdf = pd.DataFrame(games_list)"
   ]
  },
  {
   "cell_type": "markdown",
   "metadata": {
    "id": "GYbLyOXHIfB2"
   },
   "source": [
    "Now as we can see that there are lots of rows which have blank titles and also some titles which atre not even a game like \"EA Play\".\n",
    "\n",
    "![](https://i.imgur.com/yEOXn7g.png)\n",
    "\n",
    "we need to remove these anomalies before proceeding further."
   ]
  },
  {
   "cell_type": "markdown",
   "metadata": {
    "id": "nMBxl5o7kEbl"
   },
   "source": [
    "Let's create a function here for the cleaning of the data"
   ]
  },
  {
   "cell_type": "code",
   "execution_count": null,
   "metadata": {
    "id": "jzLVMQLBkF81"
   },
   "outputs": [],
   "source": [
    "def clean_data(games_list):\n",
    "  '''Takes the list of games as an input,  cleans the list of any anomalies and returns it's dataframe'''\n",
    "  gamesdf = pd.DataFrame(games_list)\n",
    "  for i in range(len(gamesdf)):\n",
    "    if gamesdf['title'][i] == '':\n",
    "      new_gamesdf = gamesdf.drop(i)\n",
    "      gamesdf = new_gamesdf\n",
    "    elif gamesdf['title'][i] == 'EA Play' or gamesdf['title'][i] == 'Valve Index VR Kit' or gamesdf['title'][i] == 'Steam Deck' or gamesdf['title'][i] == 'Valve Index® Base Station':\n",
    "      new_gamesdf = gamesdf.drop(i)\n",
    "      gamesdf = new_gamesdf\n",
    "  return new_gamesdf"
   ]
  },
  {
   "cell_type": "code",
   "execution_count": null,
   "metadata": {
    "id": "i1OtXWgymYVT"
   },
   "outputs": [],
   "source": [
    "new_gamesdf = clean_data(gamesdf)"
   ]
  },
  {
   "cell_type": "markdown",
   "metadata": {
    "id": "iypBPcpujz13"
   },
   "source": [
    "now we can see that the data is clean. There are only game titles and no blank titles\n",
    "\n",
    "![](https://i.imgur.com/IKXG3nS.png)"
   ]
  },
  {
   "cell_type": "markdown",
   "metadata": {
    "id": "KVbENN1q658Q"
   },
   "source": [
    "## Geting information from each of the games."
   ]
  },
  {
   "cell_type": "markdown",
   "metadata": {
    "id": "vFqKDg5SQr4L"
   },
   "source": [
    "Now that we have a dataframe with title and url we can use the url of the game, we can use the url of every game to extract information from the each game's page.\n",
    "\n",
    "\n",
    "\n",
    "> We will extract the price, discounted price, release date and reviews\n",
    "\n",
    "But before we can create functions there is a problem that we need to tackle first which is age selector for some games which are violent.\n",
    "\n",
    "![](https://i.imgur.com/S5kGtNO.png)\n",
    "\n",
    "\n",
    "\n",
    "So we need a way to get past of this page and get to the actual game page.\n",
    "With `Selenium` we can do this very easily. Let's create a function to tackle this.\n",
    "\n",
    "\n",
    "\n",
    "\n",
    "\n",
    "\n",
    "\n"
   ]
  },
  {
   "cell_type": "code",
   "execution_count": 70,
   "metadata": {
    "executionInfo": {
     "elapsed": 520,
     "status": "ok",
     "timestamp": 1651055276360,
     "user": {
      "displayName": "Altamash Waseem",
      "userId": "02046062760483373059"
     },
     "user_tz": 420
    },
    "id": "RjeugzMscVrO"
   },
   "outputs": [],
   "source": [
    "def check_page(wd):\n",
    "    '''Takes the driver as an input with a game url and, checks the page and returns the driver'''\n",
    "    try: \n",
    "       try:\n",
    "          info_tag = wd.find_element(By.CLASS_NAME, 'glance_ctn_responsive_left')\n",
    "          return wd\n",
    "       except:\n",
    "          year_tag = wd.find_element(By.CLASS_NAME, 'agegate_birthday_selector')\n",
    "          year = year_tag.find_element(By.ID, 'ageYear')\n",
    "          yearDD = Select(year)\n",
    "          yearDD.select_by_value('1900')\n",
    "          view_button = wd.find_element(By.XPATH, '//*[@id=\"view_product_page_btn\"]')\n",
    "          view_button.click()\n",
    "          time.sleep(4)\n",
    "    except:\n",
    "         return wd\n",
    "\n",
    "    return wd"
   ]
  },
  {
   "cell_type": "markdown",
   "metadata": {
    "id": "RcgKjp22SoTf"
   },
   "source": [
    "Now that we have tackled the age selector problem, we can create functions for extraction.\n",
    "\n",
    "We can see that the price is under a `div` with a class name \"game_purchase_action\". let's create a function to extract price first:\n"
   ]
  },
  {
   "cell_type": "code",
   "execution_count": 116,
   "metadata": {
    "executionInfo": {
     "elapsed": 432,
     "status": "ok",
     "timestamp": 1651058778849,
     "user": {
      "displayName": "Altamash Waseem",
      "userId": "02046062760483373059"
     },
     "user_tz": 420
    },
    "id": "yfZqQPpbSlpq"
   },
   "outputs": [],
   "source": [
    "def get_price(wd):\n",
    "  '''Takes the driver an returns the price of the game'''\n",
    "  try:  \n",
    "    try:  \n",
    "      try:\n",
    "        price_tag = wd.find_element(By.CLASS_NAME, 'game_purchase_action')\n",
    "        price = price_tag.find_element(By.CLASS_NAME, 'price').text.strip('$')\n",
    "        return price\n",
    "        \n",
    "      except:\n",
    "        price_tag = wd.find_element(By.CLASS_NAME, 'discount_prices')\n",
    "        prices = price_tag.text.strip().replace('\\n').split('$')\n",
    "        price = prices[1]\n",
    "        return price\n",
    "        \n",
    "    except:\n",
    "      price_tag = wd.find_element(By.CLASS_NAME, 'discount_prices')\n",
    "      price = price_tag.find_element(By.CLASS_NAME, 'discount_original_price').text.split('$')[1]\n",
    "      return price\n",
    "\n",
    "  except:\n",
    "     price = 'not available'\n",
    "     return price"
   ]
  },
  {
   "cell_type": "markdown",
   "metadata": {
    "id": "TgecpdQ-VNaS"
   },
   "source": [
    "With `get_price()` we can extract the price of a game. \n",
    "\n",
    "Next let's create the functions for discounted price, release date and reviews."
   ]
  },
  {
   "cell_type": "code",
   "execution_count": 71,
   "metadata": {
    "executionInfo": {
     "elapsed": 447,
     "status": "ok",
     "timestamp": 1651055281638,
     "user": {
      "displayName": "Altamash Waseem",
      "userId": "02046062760483373059"
     },
     "user_tz": 420
    },
    "id": "EF4jT-bCc_0O"
   },
   "outputs": [],
   "source": [
    "def get_discounted(wd):\n",
    "  '''Takes the driver an returns the discounted price of the game'''\n",
    "  try:\n",
    "    try:  \n",
    "      try:\n",
    "        price_tag = wd.find_element(By.CLASS_NAME, 'game_purchase_action')\n",
    "        discprice = price_tag.find_element(By.CLASS_NAME, 'price').text.strip('$')\n",
    "          \n",
    "      except:\n",
    "        price_tag = wd.find_element(By.CLASS_NAME, 'discount_prices')\n",
    "        prices = price_tag.text.strip('\\n').split('$')\n",
    "        discprice = prices[2]\n",
    "      \n",
    "    except:\n",
    "      discprice = 'not availale'\n",
    "\n",
    "  except:\n",
    "      price_tag = wd.find_element(By.CLASS_NAME, 'discount_prices')\n",
    "      discprice = price_tag.find_element(By.CLASS_NAME, 'discount_final_price')\n",
    "\n",
    "  return discprice"
   ]
  },
  {
   "cell_type": "code",
   "execution_count": 72,
   "metadata": {
    "executionInfo": {
     "elapsed": 472,
     "status": "ok",
     "timestamp": 1651055284852,
     "user": {
      "displayName": "Altamash Waseem",
      "userId": "02046062760483373059"
     },
     "user_tz": 420
    },
    "id": "gyyxnu3Lc_2u"
   },
   "outputs": [],
   "source": [
    "def get_release(wd):\n",
    "   '''Takes the driver an returns the release date of the game'''\n",
    "   try: \n",
    "      info_tag = wd.find_element(By.CLASS_NAME, 'glance_ctn_responsive_left')\n",
    "\n",
    "      release = info_tag.find_element(By.CLASS_NAME, 'release_date').text.strip().replace('RELEASE DATE:\\n','')\n",
    "   except:\n",
    "      release = 'not available'\n",
    "       \n",
    "   return release"
   ]
  },
  {
   "cell_type": "code",
   "execution_count": 155,
   "metadata": {
    "executionInfo": {
     "elapsed": 472,
     "status": "ok",
     "timestamp": 1651063636826,
     "user": {
      "displayName": "Altamash Waseem",
      "userId": "02046062760483373059"
     },
     "user_tz": 420
    },
    "id": "U_hAZ2Unc_4s"
   },
   "outputs": [],
   "source": [
    "def get_reviews(wd):\n",
    "  '''Takes the driver an returns the reviews of the game'''\n",
    "  try:  \n",
    "    info_tag = wd.find_element(By.CLASS_NAME, 'glance_ctn_responsive_left')\n",
    "    try:\n",
    "      reviews = info_tag.find_element(By.XPATH, '//*[@id=\"userReviews\"]/div[2]').text.replace('ALL REVIEWS:\\n', '')\n",
    "    except:\n",
    "      reviews = info_tag.find_element(By.CLASS_NAME, 'user_reviews').text.replace('ALL REVIEWS:\\n', '')\n",
    "  except:\n",
    "    reviews = 'not available'\n",
    "  return reviews"
   ]
  },
  {
   "cell_type": "markdown",
   "metadata": {
    "id": "f3Jm3v7Ur0tH"
   },
   "source": [
    "Let's get the url of all the games from the dataframe that we created of the games."
   ]
  },
  {
   "cell_type": "code",
   "execution_count": null,
   "metadata": {
    "id": "gUnBg45z7HHu"
   },
   "outputs": [],
   "source": [
    "games_url = new_gamesdf['url']"
   ]
  },
  {
   "cell_type": "markdown",
   "metadata": {
    "id": "wmq26WQ172gs"
   },
   "source": [
    "let's ceate a function to create a function to download avery individual game page"
   ]
  },
  {
   "cell_type": "code",
   "execution_count": null,
   "metadata": {
    "id": "L_U76jAt8BkH"
   },
   "outputs": [],
   "source": [
    "def get_page(url):\n",
    "  '''Takes the url and returns the driver with the page'''\n",
    "  wd.get(url)\n",
    "  return wd"
   ]
  },
  {
   "cell_type": "markdown",
   "metadata": {
    "id": "vJtcHZ9Tfs82"
   },
   "source": [
    "Now that we have have all the functions to extract info let's combine them into one function which gives us the information in the form of a dictionary"
   ]
  },
  {
   "cell_type": "code",
   "execution_count": 74,
   "metadata": {
    "executionInfo": {
     "elapsed": 6,
     "status": "ok",
     "timestamp": 1651055292802,
     "user": {
      "displayName": "Altamash Waseem",
      "userId": "02046062760483373059"
     },
     "user_tz": 420
    },
    "id": "kf7okp8xeen9"
   },
   "outputs": [],
   "source": [
    "def get_game_info(url):\n",
    "  '''Takes the url and returns a dictionary with the price, discounted price, release date and the reviews'''\n",
    "  wd_1 = get_page(url)\n",
    "  wd_new = check_page(wd_1)\n",
    "  price = get_price(wd_new)\n",
    "  discounted = get_discounted(wd_new)\n",
    "  release = get_release(wd_new)\n",
    "  reviews = get_reviews(wd_new)\n",
    "  mygame = {\n",
    "            'Price': price,\n",
    "            'Discounted Price': discounted,\n",
    "            'Release Date': release,\n",
    "            'Reviews': reviews\n",
    "           }\n",
    "  return mygame"
   ]
  },
  {
   "cell_type": "markdown",
   "metadata": {
    "id": "grtKal_g1OXn"
   },
   "source": [
    "The `get_game_info()` gives us the information of one game in the form of a dictionary, so to get information of all the games we need to loop through all the games url and fetch the information.\n",
    "\n",
    "Let's create a function for that:"
   ]
  },
  {
   "cell_type": "code",
   "execution_count": 75,
   "metadata": {
    "executionInfo": {
     "elapsed": 458,
     "status": "ok",
     "timestamp": 1651055295861,
     "user": {
      "displayName": "Altamash Waseem",
      "userId": "02046062760483373059"
     },
     "user_tz": 420
    },
    "id": "U_576tKX8fbb"
   },
   "outputs": [],
   "source": [
    "def get_all_games(games_url):\n",
    "  '''Takes all the urls of the games, creates a list of dictionary of info of the games and returns a dataframe of this'''\n",
    "  game_info_list = []\n",
    "  for i in games_url:\n",
    "    game_info = get_game_info(i)\n",
    "    game_info_list.append(game_info)\n",
    "  game_info_df = pd.DataFrame(game_info_list)\n",
    "  return game_info_df"
   ]
  },
  {
   "cell_type": "markdown",
   "metadata": {
    "id": "UrSCks4f2aan"
   },
   "source": [
    "The `get_all_games()` function gives us information of all the games in the form of a dataframe."
   ]
  },
  {
   "cell_type": "code",
   "execution_count": 156,
   "metadata": {
    "executionInfo": {
     "elapsed": 560028,
     "status": "ok",
     "timestamp": 1651064200719,
     "user": {
      "displayName": "Altamash Waseem",
      "userId": "02046062760483373059"
     },
     "user_tz": 420
    },
    "id": "Df2szOStOO9v"
   },
   "outputs": [],
   "source": [
    "game_info_df = get_all_games(games_url)"
   ]
  },
  {
   "cell_type": "code",
   "execution_count": 157,
   "metadata": {
    "colab": {
     "base_uri": "https://localhost:8080/",
     "height": 423
    },
    "executionInfo": {
     "elapsed": 448,
     "status": "ok",
     "timestamp": 1651064208133,
     "user": {
      "displayName": "Altamash Waseem",
      "userId": "02046062760483373059"
     },
     "user_tz": 420
    },
    "id": "iy1hkriyu-5_",
    "outputId": "0fa0e259-ced5-40b7-d4c5-3ff16b8bdc1f"
   },
   "outputs": [
    {
     "data": {
      "text/html": [
       "\n",
       "  <div id=\"df-7474e185-c594-4ca0-aa4e-856cef893876\">\n",
       "    <div class=\"colab-df-container\">\n",
       "      <div>\n",
       "<style scoped>\n",
       "    .dataframe tbody tr th:only-of-type {\n",
       "        vertical-align: middle;\n",
       "    }\n",
       "\n",
       "    .dataframe tbody tr th {\n",
       "        vertical-align: top;\n",
       "    }\n",
       "\n",
       "    .dataframe thead th {\n",
       "        text-align: right;\n",
       "    }\n",
       "</style>\n",
       "<table border=\"1\" class=\"dataframe\">\n",
       "  <thead>\n",
       "    <tr style=\"text-align: right;\">\n",
       "      <th></th>\n",
       "      <th>Price</th>\n",
       "      <th>Discounted Price</th>\n",
       "      <th>Release Date</th>\n",
       "      <th>Reviews</th>\n",
       "    </tr>\n",
       "  </thead>\n",
       "  <tbody>\n",
       "    <tr>\n",
       "      <th>0</th>\n",
       "      <td>29.99</td>\n",
       "      <td>29.99</td>\n",
       "      <td>Apr 26, 2022</td>\n",
       "      <td>Very Positive - 83% of the 623 user reviews fo...</td>\n",
       "    </tr>\n",
       "    <tr>\n",
       "      <th>1</th>\n",
       "      <td>59.99</td>\n",
       "      <td>29.99</td>\n",
       "      <td>Mar 21, 2019</td>\n",
       "      <td>Very Positive - 94% of the 125,833 user review...</td>\n",
       "    </tr>\n",
       "    <tr>\n",
       "      <th>2</th>\n",
       "      <td>59.99</td>\n",
       "      <td>59.99</td>\n",
       "      <td>Feb 24, 2022</td>\n",
       "      <td>Very Positive - 89% of the 348,755 user review...</td>\n",
       "    </tr>\n",
       "    <tr>\n",
       "      <th>3</th>\n",
       "      <td>19.99</td>\n",
       "      <td>17.99</td>\n",
       "      <td>Apr 25, 2022</td>\n",
       "      <td>Very Positive - 85% of the 437 user reviews fo...</td>\n",
       "    </tr>\n",
       "    <tr>\n",
       "      <th>4</th>\n",
       "      <td>44.99</td>\n",
       "      <td>40.49</td>\n",
       "      <td>Jan 26, 2021</td>\n",
       "      <td>Very Positive - 82% of the 683 user reviews fo...</td>\n",
       "    </tr>\n",
       "    <tr>\n",
       "      <th>...</th>\n",
       "      <td>...</td>\n",
       "      <td>...</td>\n",
       "      <td>...</td>\n",
       "      <td>...</td>\n",
       "    </tr>\n",
       "    <tr>\n",
       "      <th>323</th>\n",
       "      <td>19.99</td>\n",
       "      <td>9.99</td>\n",
       "      <td>Feb 2, 2017</td>\n",
       "      <td>Mostly Positive - 76% of the 663 user reviews ...</td>\n",
       "    </tr>\n",
       "    <tr>\n",
       "      <th>324</th>\n",
       "      <td>69.99</td>\n",
       "      <td>69.99</td>\n",
       "      <td>not available</td>\n",
       "      <td>not available</td>\n",
       "    </tr>\n",
       "    <tr>\n",
       "      <th>325</th>\n",
       "      <td>39.99</td>\n",
       "      <td>25.99</td>\n",
       "      <td>not available</td>\n",
       "      <td>not available</td>\n",
       "    </tr>\n",
       "    <tr>\n",
       "      <th>326</th>\n",
       "      <td>59.99</td>\n",
       "      <td>59.99</td>\n",
       "      <td>Apr 2, 2018</td>\n",
       "      <td>Mostly Positive - 75% of the 5,901 user review...</td>\n",
       "    </tr>\n",
       "    <tr>\n",
       "      <th>327</th>\n",
       "      <td>not available</td>\n",
       "      <td>not availale</td>\n",
       "      <td>Feb 9, 2022</td>\n",
       "      <td>Very Positive - 86% of the 2,331 user reviews ...</td>\n",
       "    </tr>\n",
       "  </tbody>\n",
       "</table>\n",
       "<p>328 rows × 4 columns</p>\n",
       "</div>\n",
       "      <button class=\"colab-df-convert\" onclick=\"convertToInteractive('df-7474e185-c594-4ca0-aa4e-856cef893876')\"\n",
       "              title=\"Convert this dataframe to an interactive table.\"\n",
       "              style=\"display:none;\">\n",
       "        \n",
       "  <svg xmlns=\"http://www.w3.org/2000/svg\" height=\"24px\"viewBox=\"0 0 24 24\"\n",
       "       width=\"24px\">\n",
       "    <path d=\"M0 0h24v24H0V0z\" fill=\"none\"/>\n",
       "    <path d=\"M18.56 5.44l.94 2.06.94-2.06 2.06-.94-2.06-.94-.94-2.06-.94 2.06-2.06.94zm-11 1L8.5 8.5l.94-2.06 2.06-.94-2.06-.94L8.5 2.5l-.94 2.06-2.06.94zm10 10l.94 2.06.94-2.06 2.06-.94-2.06-.94-.94-2.06-.94 2.06-2.06.94z\"/><path d=\"M17.41 7.96l-1.37-1.37c-.4-.4-.92-.59-1.43-.59-.52 0-1.04.2-1.43.59L10.3 9.45l-7.72 7.72c-.78.78-.78 2.05 0 2.83L4 21.41c.39.39.9.59 1.41.59.51 0 1.02-.2 1.41-.59l7.78-7.78 2.81-2.81c.8-.78.8-2.07 0-2.86zM5.41 20L4 18.59l7.72-7.72 1.47 1.35L5.41 20z\"/>\n",
       "  </svg>\n",
       "      </button>\n",
       "      \n",
       "  <style>\n",
       "    .colab-df-container {\n",
       "      display:flex;\n",
       "      flex-wrap:wrap;\n",
       "      gap: 12px;\n",
       "    }\n",
       "\n",
       "    .colab-df-convert {\n",
       "      background-color: #E8F0FE;\n",
       "      border: none;\n",
       "      border-radius: 50%;\n",
       "      cursor: pointer;\n",
       "      display: none;\n",
       "      fill: #1967D2;\n",
       "      height: 32px;\n",
       "      padding: 0 0 0 0;\n",
       "      width: 32px;\n",
       "    }\n",
       "\n",
       "    .colab-df-convert:hover {\n",
       "      background-color: #E2EBFA;\n",
       "      box-shadow: 0px 1px 2px rgba(60, 64, 67, 0.3), 0px 1px 3px 1px rgba(60, 64, 67, 0.15);\n",
       "      fill: #174EA6;\n",
       "    }\n",
       "\n",
       "    [theme=dark] .colab-df-convert {\n",
       "      background-color: #3B4455;\n",
       "      fill: #D2E3FC;\n",
       "    }\n",
       "\n",
       "    [theme=dark] .colab-df-convert:hover {\n",
       "      background-color: #434B5C;\n",
       "      box-shadow: 0px 1px 3px 1px rgba(0, 0, 0, 0.15);\n",
       "      filter: drop-shadow(0px 1px 2px rgba(0, 0, 0, 0.3));\n",
       "      fill: #FFFFFF;\n",
       "    }\n",
       "  </style>\n",
       "\n",
       "      <script>\n",
       "        const buttonEl =\n",
       "          document.querySelector('#df-7474e185-c594-4ca0-aa4e-856cef893876 button.colab-df-convert');\n",
       "        buttonEl.style.display =\n",
       "          google.colab.kernel.accessAllowed ? 'block' : 'none';\n",
       "\n",
       "        async function convertToInteractive(key) {\n",
       "          const element = document.querySelector('#df-7474e185-c594-4ca0-aa4e-856cef893876');\n",
       "          const dataTable =\n",
       "            await google.colab.kernel.invokeFunction('convertToInteractive',\n",
       "                                                     [key], {});\n",
       "          if (!dataTable) return;\n",
       "\n",
       "          const docLinkHtml = 'Like what you see? Visit the ' +\n",
       "            '<a target=\"_blank\" href=https://colab.research.google.com/notebooks/data_table.ipynb>data table notebook</a>'\n",
       "            + ' to learn more about interactive tables.';\n",
       "          element.innerHTML = '';\n",
       "          dataTable['output_type'] = 'display_data';\n",
       "          await google.colab.output.renderOutput(dataTable, element);\n",
       "          const docLink = document.createElement('div');\n",
       "          docLink.innerHTML = docLinkHtml;\n",
       "          element.appendChild(docLink);\n",
       "        }\n",
       "      </script>\n",
       "    </div>\n",
       "  </div>\n",
       "  "
      ],
      "text/plain": [
       "             Price Discounted Price   Release Date  \\\n",
       "0            29.99            29.99   Apr 26, 2022   \n",
       "1            59.99            29.99   Mar 21, 2019   \n",
       "2            59.99            59.99   Feb 24, 2022   \n",
       "3            19.99            17.99   Apr 25, 2022   \n",
       "4            44.99            40.49   Jan 26, 2021   \n",
       "..             ...              ...            ...   \n",
       "323          19.99             9.99    Feb 2, 2017   \n",
       "324          69.99            69.99  not available   \n",
       "325          39.99            25.99  not available   \n",
       "326          59.99            59.99    Apr 2, 2018   \n",
       "327  not available     not availale    Feb 9, 2022   \n",
       "\n",
       "                                               Reviews  \n",
       "0    Very Positive - 83% of the 623 user reviews fo...  \n",
       "1    Very Positive - 94% of the 125,833 user review...  \n",
       "2    Very Positive - 89% of the 348,755 user review...  \n",
       "3    Very Positive - 85% of the 437 user reviews fo...  \n",
       "4    Very Positive - 82% of the 683 user reviews fo...  \n",
       "..                                                 ...  \n",
       "323  Mostly Positive - 76% of the 663 user reviews ...  \n",
       "324                                      not available  \n",
       "325                                      not available  \n",
       "326  Mostly Positive - 75% of the 5,901 user review...  \n",
       "327  Very Positive - 86% of the 2,331 user reviews ...  \n",
       "\n",
       "[328 rows x 4 columns]"
      ]
     },
     "execution_count": 157,
     "metadata": {},
     "output_type": "execute_result"
    }
   ],
   "source": [
    "game_info_df"
   ]
  },
  {
   "cell_type": "markdown",
   "metadata": {
    "id": "_x4J3cKTUIX5"
   },
   "source": [
    "The dataframe of the all the games info looks like this:\n",
    "\n",
    "![](https://i.imgur.com/Rwloo7h.png)\n",
    "\n",
    "Now that we have both the dataframe we can use the `conact()` function of pandas to merge the two dataframe and use the `reset_index()` function to reset the index of the final dataframe."
   ]
  },
  {
   "cell_type": "code",
   "execution_count": 158,
   "metadata": {
    "executionInfo": {
     "elapsed": 460,
     "status": "ok",
     "timestamp": 1651064222625,
     "user": {
      "displayName": "Altamash Waseem",
      "userId": "02046062760483373059"
     },
     "user_tz": 420
    },
    "id": "CPgUSbDv8l0K"
   },
   "outputs": [],
   "source": [
    "result = pd.concat([new_gamesdf, game_info_df], axis=1, join='inner')"
   ]
  },
  {
   "cell_type": "code",
   "execution_count": 159,
   "metadata": {
    "executionInfo": {
     "elapsed": 623,
     "status": "ok",
     "timestamp": 1651064227214,
     "user": {
      "displayName": "Altamash Waseem",
      "userId": "02046062760483373059"
     },
     "user_tz": 420
    },
    "id": "Zciwe0o-owIa"
   },
   "outputs": [],
   "source": [
    "result.reset_index(drop=True, inplace=True)"
   ]
  },
  {
   "cell_type": "code",
   "execution_count": 160,
   "metadata": {
    "colab": {
     "base_uri": "https://localhost:8080/",
     "height": 423
    },
    "executionInfo": {
     "elapsed": 454,
     "status": "ok",
     "timestamp": 1651064264237,
     "user": {
      "displayName": "Altamash Waseem",
      "userId": "02046062760483373059"
     },
     "user_tz": 420
    },
    "id": "d3T8AGOuGR5F",
    "outputId": "df0fed8f-64a5-48e3-da02-4935c10cdb9e"
   },
   "outputs": [
    {
     "data": {
      "text/html": [
       "\n",
       "  <div id=\"df-5d6acd33-5208-40ac-aa98-e8dfe5a6f88a\">\n",
       "    <div class=\"colab-df-container\">\n",
       "      <div>\n",
       "<style scoped>\n",
       "    .dataframe tbody tr th:only-of-type {\n",
       "        vertical-align: middle;\n",
       "    }\n",
       "\n",
       "    .dataframe tbody tr th {\n",
       "        vertical-align: top;\n",
       "    }\n",
       "\n",
       "    .dataframe thead th {\n",
       "        text-align: right;\n",
       "    }\n",
       "</style>\n",
       "<table border=\"1\" class=\"dataframe\">\n",
       "  <thead>\n",
       "    <tr style=\"text-align: right;\">\n",
       "      <th></th>\n",
       "      <th>title</th>\n",
       "      <th>url</th>\n",
       "      <th>Price</th>\n",
       "      <th>Discounted Price</th>\n",
       "      <th>Release Date</th>\n",
       "      <th>Reviews</th>\n",
       "    </tr>\n",
       "  </thead>\n",
       "  <tbody>\n",
       "    <tr>\n",
       "      <th>0</th>\n",
       "      <td>Dune: Spice Wars</td>\n",
       "      <td>https://store.steampowered.com/app/1605220/Dun...</td>\n",
       "      <td>29.99</td>\n",
       "      <td>29.99</td>\n",
       "      <td>Apr 26, 2022</td>\n",
       "      <td>Very Positive - 83% of the 623 user reviews fo...</td>\n",
       "    </tr>\n",
       "    <tr>\n",
       "      <th>1</th>\n",
       "      <td>Sekiro™: Shadows Die Twice - GOTY Edition</td>\n",
       "      <td>https://store.steampowered.com/app/814380/Seki...</td>\n",
       "      <td>59.99</td>\n",
       "      <td>29.99</td>\n",
       "      <td>Mar 21, 2019</td>\n",
       "      <td>Very Positive - 94% of the 125,833 user review...</td>\n",
       "    </tr>\n",
       "    <tr>\n",
       "      <th>2</th>\n",
       "      <td>ELDEN RING</td>\n",
       "      <td>https://store.steampowered.com/app/1245620/ELD...</td>\n",
       "      <td>59.99</td>\n",
       "      <td>59.99</td>\n",
       "      <td>Feb 24, 2022</td>\n",
       "      <td>Very Positive - 89% of the 348,755 user review...</td>\n",
       "    </tr>\n",
       "    <tr>\n",
       "      <th>3</th>\n",
       "      <td>Peglin</td>\n",
       "      <td>https://store.steampowered.com/app/1296610/Peg...</td>\n",
       "      <td>49.99</td>\n",
       "      <td>49.99</td>\n",
       "      <td>Apr 5, 2022</td>\n",
       "      <td>Very Positive - 93% of the 17,457 user reviews...</td>\n",
       "    </tr>\n",
       "    <tr>\n",
       "      <th>4</th>\n",
       "      <td>King Arthur: Knight's Tale</td>\n",
       "      <td>https://store.steampowered.com/app/1157390/Kin...</td>\n",
       "      <td>49.99</td>\n",
       "      <td>24.99</td>\n",
       "      <td>Oct 29, 2020</td>\n",
       "      <td>Very Positive - 94% of the 2,566 user reviews ...</td>\n",
       "    </tr>\n",
       "    <tr>\n",
       "      <th>...</th>\n",
       "      <td>...</td>\n",
       "      <td>...</td>\n",
       "      <td>...</td>\n",
       "      <td>...</td>\n",
       "      <td>...</td>\n",
       "      <td>...</td>\n",
       "    </tr>\n",
       "    <tr>\n",
       "      <th>302</th>\n",
       "      <td>CarX Drift Racing Online</td>\n",
       "      <td>https://store.steampowered.com/app/635260/CarX...</td>\n",
       "      <td>19.99</td>\n",
       "      <td>9.99</td>\n",
       "      <td>Feb 2, 2017</td>\n",
       "      <td>Mostly Positive - 76% of the 663 user reviews ...</td>\n",
       "    </tr>\n",
       "    <tr>\n",
       "      <th>303</th>\n",
       "      <td>FINAL FANTASY I-VI Bundle</td>\n",
       "      <td>https://store.steampowered.com/bundle/21478/FI...</td>\n",
       "      <td>69.99</td>\n",
       "      <td>69.99</td>\n",
       "      <td>not available</td>\n",
       "      <td>not available</td>\n",
       "    </tr>\n",
       "    <tr>\n",
       "      <th>304</th>\n",
       "      <td>Age of Empires II: Definitive Edition - Dynast...</td>\n",
       "      <td>https://store.steampowered.com/app/1869820/Age...</td>\n",
       "      <td>39.99</td>\n",
       "      <td>25.99</td>\n",
       "      <td>not available</td>\n",
       "      <td>not available</td>\n",
       "    </tr>\n",
       "    <tr>\n",
       "      <th>305</th>\n",
       "      <td>Police Simulator: Patrol Officers</td>\n",
       "      <td>https://store.steampowered.com/app/997010/Poli...</td>\n",
       "      <td>59.99</td>\n",
       "      <td>59.99</td>\n",
       "      <td>Apr 2, 2018</td>\n",
       "      <td>Mostly Positive - 75% of the 5,901 user review...</td>\n",
       "    </tr>\n",
       "    <tr>\n",
       "      <th>306</th>\n",
       "      <td>XCOM 2: Reinforcement Pack</td>\n",
       "      <td>https://store.steampowered.com/app/426321/XCOM...</td>\n",
       "      <td>not available</td>\n",
       "      <td>not availale</td>\n",
       "      <td>Feb 9, 2022</td>\n",
       "      <td>Very Positive - 86% of the 2,331 user reviews ...</td>\n",
       "    </tr>\n",
       "  </tbody>\n",
       "</table>\n",
       "<p>307 rows × 6 columns</p>\n",
       "</div>\n",
       "      <button class=\"colab-df-convert\" onclick=\"convertToInteractive('df-5d6acd33-5208-40ac-aa98-e8dfe5a6f88a')\"\n",
       "              title=\"Convert this dataframe to an interactive table.\"\n",
       "              style=\"display:none;\">\n",
       "        \n",
       "  <svg xmlns=\"http://www.w3.org/2000/svg\" height=\"24px\"viewBox=\"0 0 24 24\"\n",
       "       width=\"24px\">\n",
       "    <path d=\"M0 0h24v24H0V0z\" fill=\"none\"/>\n",
       "    <path d=\"M18.56 5.44l.94 2.06.94-2.06 2.06-.94-2.06-.94-.94-2.06-.94 2.06-2.06.94zm-11 1L8.5 8.5l.94-2.06 2.06-.94-2.06-.94L8.5 2.5l-.94 2.06-2.06.94zm10 10l.94 2.06.94-2.06 2.06-.94-2.06-.94-.94-2.06-.94 2.06-2.06.94z\"/><path d=\"M17.41 7.96l-1.37-1.37c-.4-.4-.92-.59-1.43-.59-.52 0-1.04.2-1.43.59L10.3 9.45l-7.72 7.72c-.78.78-.78 2.05 0 2.83L4 21.41c.39.39.9.59 1.41.59.51 0 1.02-.2 1.41-.59l7.78-7.78 2.81-2.81c.8-.78.8-2.07 0-2.86zM5.41 20L4 18.59l7.72-7.72 1.47 1.35L5.41 20z\"/>\n",
       "  </svg>\n",
       "      </button>\n",
       "      \n",
       "  <style>\n",
       "    .colab-df-container {\n",
       "      display:flex;\n",
       "      flex-wrap:wrap;\n",
       "      gap: 12px;\n",
       "    }\n",
       "\n",
       "    .colab-df-convert {\n",
       "      background-color: #E8F0FE;\n",
       "      border: none;\n",
       "      border-radius: 50%;\n",
       "      cursor: pointer;\n",
       "      display: none;\n",
       "      fill: #1967D2;\n",
       "      height: 32px;\n",
       "      padding: 0 0 0 0;\n",
       "      width: 32px;\n",
       "    }\n",
       "\n",
       "    .colab-df-convert:hover {\n",
       "      background-color: #E2EBFA;\n",
       "      box-shadow: 0px 1px 2px rgba(60, 64, 67, 0.3), 0px 1px 3px 1px rgba(60, 64, 67, 0.15);\n",
       "      fill: #174EA6;\n",
       "    }\n",
       "\n",
       "    [theme=dark] .colab-df-convert {\n",
       "      background-color: #3B4455;\n",
       "      fill: #D2E3FC;\n",
       "    }\n",
       "\n",
       "    [theme=dark] .colab-df-convert:hover {\n",
       "      background-color: #434B5C;\n",
       "      box-shadow: 0px 1px 3px 1px rgba(0, 0, 0, 0.15);\n",
       "      filter: drop-shadow(0px 1px 2px rgba(0, 0, 0, 0.3));\n",
       "      fill: #FFFFFF;\n",
       "    }\n",
       "  </style>\n",
       "\n",
       "      <script>\n",
       "        const buttonEl =\n",
       "          document.querySelector('#df-5d6acd33-5208-40ac-aa98-e8dfe5a6f88a button.colab-df-convert');\n",
       "        buttonEl.style.display =\n",
       "          google.colab.kernel.accessAllowed ? 'block' : 'none';\n",
       "\n",
       "        async function convertToInteractive(key) {\n",
       "          const element = document.querySelector('#df-5d6acd33-5208-40ac-aa98-e8dfe5a6f88a');\n",
       "          const dataTable =\n",
       "            await google.colab.kernel.invokeFunction('convertToInteractive',\n",
       "                                                     [key], {});\n",
       "          if (!dataTable) return;\n",
       "\n",
       "          const docLinkHtml = 'Like what you see? Visit the ' +\n",
       "            '<a target=\"_blank\" href=https://colab.research.google.com/notebooks/data_table.ipynb>data table notebook</a>'\n",
       "            + ' to learn more about interactive tables.';\n",
       "          element.innerHTML = '';\n",
       "          dataTable['output_type'] = 'display_data';\n",
       "          await google.colab.output.renderOutput(dataTable, element);\n",
       "          const docLink = document.createElement('div');\n",
       "          docLink.innerHTML = docLinkHtml;\n",
       "          element.appendChild(docLink);\n",
       "        }\n",
       "      </script>\n",
       "    </div>\n",
       "  </div>\n",
       "  "
      ],
      "text/plain": [
       "                                                 title  \\\n",
       "0                                     Dune: Spice Wars   \n",
       "1            Sekiro™: Shadows Die Twice - GOTY Edition   \n",
       "2                                           ELDEN RING   \n",
       "3                                               Peglin   \n",
       "4                           King Arthur: Knight's Tale   \n",
       "..                                                 ...   \n",
       "302                           CarX Drift Racing Online   \n",
       "303                          FINAL FANTASY I-VI Bundle   \n",
       "304  Age of Empires II: Definitive Edition - Dynast...   \n",
       "305                  Police Simulator: Patrol Officers   \n",
       "306                         XCOM 2: Reinforcement Pack   \n",
       "\n",
       "                                                   url          Price  \\\n",
       "0    https://store.steampowered.com/app/1605220/Dun...          29.99   \n",
       "1    https://store.steampowered.com/app/814380/Seki...          59.99   \n",
       "2    https://store.steampowered.com/app/1245620/ELD...          59.99   \n",
       "3    https://store.steampowered.com/app/1296610/Peg...          49.99   \n",
       "4    https://store.steampowered.com/app/1157390/Kin...          49.99   \n",
       "..                                                 ...            ...   \n",
       "302  https://store.steampowered.com/app/635260/CarX...          19.99   \n",
       "303  https://store.steampowered.com/bundle/21478/FI...          69.99   \n",
       "304  https://store.steampowered.com/app/1869820/Age...          39.99   \n",
       "305  https://store.steampowered.com/app/997010/Poli...          59.99   \n",
       "306  https://store.steampowered.com/app/426321/XCOM...  not available   \n",
       "\n",
       "    Discounted Price   Release Date  \\\n",
       "0              29.99   Apr 26, 2022   \n",
       "1              29.99   Mar 21, 2019   \n",
       "2              59.99   Feb 24, 2022   \n",
       "3              49.99    Apr 5, 2022   \n",
       "4              24.99   Oct 29, 2020   \n",
       "..               ...            ...   \n",
       "302             9.99    Feb 2, 2017   \n",
       "303            69.99  not available   \n",
       "304            25.99  not available   \n",
       "305            59.99    Apr 2, 2018   \n",
       "306     not availale    Feb 9, 2022   \n",
       "\n",
       "                                               Reviews  \n",
       "0    Very Positive - 83% of the 623 user reviews fo...  \n",
       "1    Very Positive - 94% of the 125,833 user review...  \n",
       "2    Very Positive - 89% of the 348,755 user review...  \n",
       "3    Very Positive - 93% of the 17,457 user reviews...  \n",
       "4    Very Positive - 94% of the 2,566 user reviews ...  \n",
       "..                                                 ...  \n",
       "302  Mostly Positive - 76% of the 663 user reviews ...  \n",
       "303                                      not available  \n",
       "304                                      not available  \n",
       "305  Mostly Positive - 75% of the 5,901 user review...  \n",
       "306  Very Positive - 86% of the 2,331 user reviews ...  \n",
       "\n",
       "[307 rows x 6 columns]"
      ]
     },
     "execution_count": 160,
     "metadata": {},
     "output_type": "execute_result"
    }
   ],
   "source": [
    "result"
   ]
  },
  {
   "cell_type": "markdown",
   "metadata": {
    "id": "lT0td1irxjm_"
   },
   "source": [
    "Now we can use the `to_csv()` function to convert the final dataframe into a csv file"
   ]
  },
  {
   "cell_type": "code",
   "execution_count": null,
   "metadata": {
    "id": "xFpujtKi8804"
   },
   "outputs": [],
   "source": [
    "result.to_csv('top_selling_games' + '.csv', index=False)"
   ]
  },
  {
   "cell_type": "markdown",
   "metadata": {
    "id": "lPlJPUBY2vgO"
   },
   "source": [
    "Now we have two dataframes, `new_gamesdf` with the title and url and `game_info_df` with the release, reviews and other info of these games.\n",
    "\n",
    "let's create a function a function to combine these two dataframe and then save it to csv file"
   ]
  },
  {
   "cell_type": "code",
   "execution_count": null,
   "metadata": {
    "id": "bf3BmDsS9lt5"
   },
   "outputs": [],
   "source": [
    "def save_to_csv(df_1, df_2, file_name):\n",
    "  '''Takes both the dataframes & the filename, merges both the dataframes and saves it to a csv file'''\n",
    "  result = pd.concat([df_1, df_2], axis=1, join='inner')\n",
    "  result.to_csv(file_name + '.csv', index=False)"
   ]
  },
  {
   "cell_type": "markdown",
   "metadata": {
    "id": "d6TFlixcbi4_"
   },
   "source": [
    "Now that we have info of every games, we need to combine both the dataframes `new_gamesdf` and `game_info_df` to create a dataframe of details of every games."
   ]
  },
  {
   "cell_type": "code",
   "execution_count": null,
   "metadata": {
    "id": "a9MZPEfI9lyY"
   },
   "outputs": [],
   "source": [
    "save_to_csv(new_gamesdf, game_info_df, 'top_selling_games')"
   ]
  },
  {
   "cell_type": "markdown",
   "metadata": {
    "id": "tMdfz5gQ3sul"
   },
   "source": [
    "Now we have a csv file with the Games title, url, release, price, discounted price and reviews with the name 'top_selling_games'"
   ]
  },
  {
   "cell_type": "markdown",
   "metadata": {
    "id": "Hw__WttN3MwZ"
   },
   "source": [
    "## Let's have a look at all the functions we have created:"
   ]
  },
  {
   "cell_type": "code",
   "execution_count": null,
   "metadata": {
    "id": "bx5mvx60FuX-"
   },
   "outputs": [],
   "source": [
    "def create_driver(url):\n",
    "  options = webdriver.ChromeOptions()\n",
    "  options.add_argument('--headless')\n",
    "  options.add_argument('--no-sandbox')\n",
    "  options.add_argument('--disable-dev-shm-usage')\n",
    "  wd = webdriver.Chrome(options=options)\n",
    "  wd.get(url)\n",
    "  return wd\n",
    "\n",
    "\n",
    "def scroll_page(wd):\n",
    "  SCROLL_PAUSE_TIME = 2\n",
    "  # Get scroll height\n",
    "  last_height = wd.execute_script(\"return document.body.scrollHeight\")\n",
    "\n",
    "  for i in range(6):\n",
    "    # Scroll down to bottom\n",
    "    wd.execute_script(\"window.scrollTo(0, document.body.scrollHeight);\")\n",
    "\n",
    "    # Wait to load page\n",
    "    time.sleep(SCROLL_PAUSE_TIME)\n",
    "\n",
    "    # Calculate new scroll height and compare with last scroll height\n",
    "    new_height = wd.execute_script(\"return document.body.scrollHeight\")\n",
    "    if new_height == last_height:\n",
    "        break\n",
    "    last_height = new_height\n",
    "  return\n",
    "\n",
    "\n",
    "def get_games(wd):\n",
    "  games_rows = wd.find_element(By.ID, 'search_resultsRows')\n",
    "  games = games_rows.find_elements_by_tag_name('a')\n",
    "  return games\n",
    "\n",
    "\n",
    "def parse_data(games):\n",
    "  #Creating an empty list\n",
    "  games_list = []\n",
    "\n",
    "  #looping through all the games\n",
    "  for i in range(len(games)): \n",
    "    title =  games[i].find_element(By.CLASS_NAME, 'title').text\n",
    "    game_url = games[i].get_attribute('href')\n",
    "    \n",
    "    #storing the extracted information inside a dictionary\n",
    "    my_game = {\n",
    "        'title': title,\n",
    "        'url': game_url,\n",
    "    }\n",
    "\n",
    "    #adding the dictionary inside the list\n",
    "    games_list.append(my_game)\n",
    "  return games_list\n",
    "\n"
   ]
  },
  {
   "cell_type": "markdown",
   "metadata": {
    "id": "iEDIS1l7439N"
   },
   "source": [
    "These are the functions that we have created for the extraction of title and url of games from the top selling page of steam.\n",
    "\n",
    "Let's create a function to combine all these so that wo don't have to run every function individually."
   ]
  },
  {
   "cell_type": "code",
   "execution_count": null,
   "metadata": {
    "id": "R7hx4CCP5L0k"
   },
   "outputs": [],
   "source": [
    "def get_all_games(url):\n",
    "  wd = create_driver(url)\n",
    "  scroll_page(wd)\n",
    "  games = get_games(wd)\n",
    "  games_list = parse_data(games)\n",
    "  return games_list"
   ]
  },
  {
   "cell_type": "markdown",
   "metadata": {
    "id": "BKHKHcPP-A_p"
   },
   "source": [
    "Next we have a function for cleaning up of data "
   ]
  },
  {
   "cell_type": "code",
   "execution_count": null,
   "metadata": {
    "id": "fb7kVWY58jIl"
   },
   "outputs": [],
   "source": [
    "def clean_data(games_list):\n",
    "  gamesdf = pd.DataFrame(games_list)\n",
    "  for i in range(len(gamesdf)):\n",
    "    if gamesdf['title'][i] == '':\n",
    "      new_gamesdf = gamesdf.drop(i)\n",
    "      gamesdf = new_gamesdf\n",
    "    elif gamesdf['title'][i] == 'EA Play' or gamesdf['title'][i] == 'Valve Index VR Kit' or gamesdf['title'][i] == 'Steam Deck' or gamesdf['title'][i] == 'Valve Index® Base Station':\n",
    "      new_gamesdf = gamesdf.drop(i)\n",
    "      gamesdf = new_gamesdf\n",
    "  return new_gamesdf\n",
    "  "
   ]
  },
  {
   "cell_type": "markdown",
   "metadata": {
    "id": "vf1CrGqkAPok"
   },
   "source": [
    "Let's take a look at the functions of extracting info from every games:"
   ]
  },
  {
   "cell_type": "code",
   "execution_count": null,
   "metadata": {
    "id": "fLjKeAqq84zW"
   },
   "outputs": [],
   "source": [
    "def check_page(wd):\n",
    " try: \n",
    "    try:\n",
    "      info_tag = wd.find_element(By.CLASS_NAME, 'glance_ctn_responsive_left')\n",
    "      return wd\n",
    "    except:\n",
    "      year_tag = wd.find_element(By.CLASS_NAME, 'agegate_birthday_selector')\n",
    "      year = year_tag.find_element(By.ID, 'ageYear')\n",
    "      yearDD = Select(year)\n",
    "      yearDD.select_by_value('1900')\n",
    "      view_button = wd.find_element(By.XPATH, '//*[@id=\"view_product_page_btn\"]')\n",
    "      view_button.click()\n",
    "      time.sleep(4)\n",
    " except:\n",
    "     return wd\n",
    "\n",
    " return wd\n",
    "\n",
    "\n",
    " \n",
    "def get_price(wd):\n",
    "  try:  \n",
    "    try:  \n",
    "      try:\n",
    "        price_tag = wd.find_element(By.CLASS_NAME, 'game_purchase_action')\n",
    "        price = price_tag.find_element(By.CLASS_NAME, 'price').text.strip('$')\n",
    "        \n",
    "      except:\n",
    "        price_tag = wd.find_element(By.CLASS_NAME, 'discount_prices')\n",
    "        prices = price_tag.text.strip('\\n').split('$')\n",
    "        price = prices[1]\n",
    "        \n",
    "    except:\n",
    "      price = 'not availale'\n",
    "\n",
    "  except:\n",
    "     price_tag = wd.find_element(By.CLASS_NAME, 'discount_prices')\n",
    "     price = price_tag.find_element(By.CLASS_NAME, 'discount_original_price').text\n",
    "\n",
    "  return price\n",
    "\n",
    "\n",
    "\n",
    "def get_discounted(wd):\n",
    "  try:\n",
    "    try:  \n",
    "      try:\n",
    "        price_tag = wd.find_element(By.CLASS_NAME, 'game_purchase_action')\n",
    "        discprice = price_tag.find_element(By.CLASS_NAME, 'price').text.strip('$')\n",
    "          \n",
    "      except:\n",
    "        price_tag = wd.find_element(By.CLASS_NAME, 'discount_prices')\n",
    "        prices = price_tag.text.strip('\\n').split('$')\n",
    "        discprice = prices[2]\n",
    "      \n",
    "    except:\n",
    "      discprice = 'not availale'\n",
    "\n",
    "  except:\n",
    "      price_tag = wd.find_element(By.CLASS_NAME, 'discount_prices')\n",
    "      discprice = price_tag.find_element(By.CLASS_NAME, 'discount_final_price')\n",
    "\n",
    "  return discprice\n",
    "\n",
    "\n",
    "\n",
    "def get_release(wd):\n",
    "   try: \n",
    "      info_tag = wd.find_element(By.CLASS_NAME, 'glance_ctn_responsive_left')\n",
    "\n",
    "      release = info_tag.find_element(By.CLASS_NAME, 'release_date').text.strip('RELEASE DATE:\\n')\n",
    "   except:\n",
    "      release = 'not available'\n",
    "       \n",
    "   return release\n",
    "\n",
    "\n",
    "\n",
    "def get_reviews(wd):\n",
    "  try:  \n",
    "    info_tag = wd.find_element(By.CLASS_NAME, 'glance_ctn_responsive_left')\n",
    "\n",
    "    reviews_tag = info_tag.find_element(By.CLASS_NAME, 'user_reviews').text.strip('\\n')\n",
    "  except:\n",
    "    reviews_tag = 'not available'\n",
    "  return reviews_tag\n",
    "\n",
    "\n",
    "\n",
    "def get_page(url, wd):\n",
    "  wd.get(url)\n",
    "  return wd\n",
    "\n",
    "\n",
    "\n",
    "def get_game_info(url):\n",
    "  wd_1 = get_page(url)\n",
    "  wd_new = check_page(wd_1)\n",
    "  price = get_price(wd_new)\n",
    "  discounted = get_discounted(wd_new)\n",
    "  release = get_release(wd_new)\n",
    "  reviews = get_reviews(wd_new)\n",
    "  mygame = {\n",
    "            'Price': price,\n",
    "            'Discounted Price': discounted,\n",
    "            'Release Date': release,\n",
    "            'Reviews': reviews\n",
    "           }\n",
    "  return mygame\n"
   ]
  },
  {
   "cell_type": "markdown",
   "metadata": {
    "id": "9VsTYlEeAmJv"
   },
   "source": [
    "Let's create a function to combine all of these into one:"
   ]
  },
  {
   "cell_type": "code",
   "execution_count": null,
   "metadata": {
    "id": "Gf0s2gW_Bd9Z"
   },
   "outputs": [],
   "source": [
    "def get_all_games(new_gamesdf):\n",
    "  games_url = new_gamesdf['url']\n",
    "  game_info_list = []\n",
    "  for i in games_url:\n",
    "    game_info = get_game_info(i)\n",
    "    game_info_list.append(game_info)\n",
    "  game_info_df = pd.DataFrame(game_info_list)\n",
    "  return game_info_df"
   ]
  },
  {
   "cell_type": "markdown",
   "metadata": {
    "id": "USdjAvs8CGCC"
   },
   "source": [
    "And at last we have have the function to combine both dataframe and save it to a csv file."
   ]
  },
  {
   "cell_type": "code",
   "execution_count": null,
   "metadata": {
    "id": "BQRgVLDQB0a4"
   },
   "outputs": [],
   "source": [
    "def save_to_csv(df_1, df_2, file_name):\n",
    "  result = pd.concat([df_1, df_2], axis=1, join='inner')\n",
    "  result.to_csv(file_name + '.csv', index=False)"
   ]
  },
  {
   "cell_type": "markdown",
   "metadata": {
    "id": "JEKiHybCCVLY"
   },
   "source": [
    "These are all the function that have used to scrape the top selling games of steam but it is really a hassle to run all the functions and get the csv file.\n",
    "\n",
    "So,  let's create a function that combine all the above functions which fisrst get all the games from top selling page, cleans the data of any anomalies, get the information of every games and combine & save the data into a csv file."
   ]
  },
  {
   "cell_type": "code",
   "execution_count": null,
   "metadata": {
    "id": "VYOV1FASDFnJ"
   },
   "outputs": [],
   "source": [
    "def scrape_top_games(url):\n",
    "  games_list = get_all_games(url)\n",
    "  new_gamesdf = clean_data(games_list)\n",
    "  game_info_df = get_all_games(new_gamesdf)\n",
    "  save_to_csv(new_gamesdf, game_info_df, 'top_selling_games')"
   ]
  },
  {
   "cell_type": "markdown",
   "metadata": {
    "id": "GC-KnkRjD9SE"
   },
   "source": [
    "This is the final function which is going to gives us the top selling games in the form of csv file"
   ]
  },
  {
   "cell_type": "markdown",
   "metadata": {
    "id": "6ScV0GWbTxy4"
   },
   "source": [
    "## Project Summary"
   ]
  },
  {
   "cell_type": "markdown",
   "metadata": {
    "id": "iQ5QGcmHUEJ8"
   },
   "source": [
    "Here's what we've covered in this notebook:\n",
    "\n",
    "1. Create a webdriver with selenium to access the website.\n",
    "2. Download the webpage using the Selenium library.\n",
    "3. Simulate the scrolling of the webpage using Selenium to get to the end of the page to get all the games.\n",
    "4. Extract the Title and url of the games.\n",
    "5. Cleaning the data of any anomalies which occour.\n",
    "6. Extracting data from every game's page.\n",
    "7. Compile the extracted data into python lists and dictionary.\n",
    "8. Save the extracted information in a csv file.\n",
    "\n",
    "\n",
    "The CSV file we created has this format:\n",
    "\n",
    "![](https://i.imgur.com/1zCuJqi.png)"
   ]
  },
  {
   "cell_type": "markdown",
   "metadata": {
    "id": "rsIMKkmkWGiy"
   },
   "source": [
    "## Future work"
   ]
  },
  {
   "cell_type": "markdown",
   "metadata": {
    "id": "8iOvbCetWXTZ"
   },
   "source": [
    "\n",
    "\n",
    "*   We can now fetch individual games page and get all the information about the games. Further refinement of this notebook could include top selling games from a specific genre, games for particular OS or even by number of players who can play the game like single player or multiple player.\n",
    "*   With the collected data further analysis can be done. For example as the data gets change in the top selling games we can determine for how many days a games stays on top.\n",
    "\n",
    "\n",
    "\n"
   ]
  },
  {
   "cell_type": "markdown",
   "metadata": {
    "id": "vvYMpK__bwhT"
   },
   "source": [
    "## References"
   ]
  },
  {
   "cell_type": "markdown",
   "metadata": {
    "id": "GgQV51fsbxBS"
   },
   "source": [
    "\n",
    "\n",
    "1.   Web scraping tutorial : https://jovian.ai/learn/zero-to-data-analyst-bootcamp/lesson/web-scraping-and-rest-apis\n",
    "2.   Webscraping with selenium tutorial : https://jovian.ai/learn/zero-to-data-analyst-bootcamp/lesson/workshop-web-scraping-with-selenium-aws\n",
    "\n",
    "1.   `Selenium` documentation library : https://pypi.org/project/selenium/\n",
    "2.   `Pandas` : https://www.w3schools.com/python/pandas/default.asp \n",
    "\n",
    "1.   Steam Website(top selling games) : https://store.steampowered.com/search/?filter=topsellers\n",
    "\n",
    "\n",
    "\n",
    "\n",
    "\n"
   ]
  },
  {
   "cell_type": "code",
   "execution_count": null,
   "metadata": {
    "colab": {
     "base_uri": "https://localhost:8080/",
     "height": 140
    },
    "executionInfo": {
     "elapsed": 16459,
     "status": "ok",
     "timestamp": 1650296565182,
     "user": {
      "displayName": "Altamash Waseem",
      "userId": "02046062760483373059"
     },
     "user_tz": 420
    },
    "id": "o61zUQGojCTh",
    "outputId": "e0ad6c0d-6044-404e-947a-2fc37289e574"
   },
   "outputs": [
    {
     "data": {
      "application/javascript": [
       "window.require && require([\"base/js/namespace\"],function(Jupyter){Jupyter.notebook.save_checkpoint()})"
      ],
      "text/plain": [
       "<IPython.core.display.Javascript object>"
      ]
     },
     "metadata": {},
     "output_type": "display_data"
    }
   ],
   "source": [
    "#@title Default title text\n",
    "jovian.commit(files = ['top_selling_games.csv'])"
   ]
  },
  {
   "cell_type": "markdown",
   "metadata": {
    "id": "VSujzz00qWwF"
   },
   "source": []
  }
 ],
 "metadata": {
  "colab": {
   "collapsed_sections": [
    "udBOLmXma5g2",
    "hUEuL36we4lN",
    "Qooe0YLbf2U-"
   ],
   "name": "scraping-top-selling-games-on-steam.ipynb",
   "provenance": []
  },
  "kernelspec": {
   "display_name": "Python 3 (ipykernel)",
   "language": "python",
   "name": "python3"
  },
  "language_info": {
   "codemirror_mode": {
    "name": "ipython",
    "version": 3
   },
   "file_extension": ".py",
   "mimetype": "text/x-python",
   "name": "python",
   "nbconvert_exporter": "python",
   "pygments_lexer": "ipython3",
   "version": "3.9.6"
  }
 },
 "nbformat": 4,
 "nbformat_minor": 0
}